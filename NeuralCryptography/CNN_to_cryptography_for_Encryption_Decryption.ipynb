{
  "cells": [
    {
      "cell_type": "code",
      "execution_count": null,
      "metadata": {
        "id": "wDHBOiuiXjJl"
      },
      "outputs": [],
      "source": [
        "import tensorflow.compat.v1 as tf\n",
        "tf.compat.v1.disable_eager_execution()\n",
        "tf.reset_default_graph()\n",
        "import numpy as np\n",
        "import matplotlib.pyplot as plt"
      ]
    },
    {
      "cell_type": "code",
      "execution_count": null,
      "metadata": {
        "id": "GguWMS8LX5-r"
      },
      "outputs": [],
      "source": [
        "# Input configuration.\n",
        "text_size = 16\n",
        "key_size  = 16\n",
        "\n",
        "# Training parameters.\n",
        "learning_rate   = 0.0008\n",
        "batch_size      = 4096\n",
        "sample_size     = 4096*5\n",
        "epochs          = 8000\n",
        "steps_per_epoch = int(sample_size/batch_size)\n",
        "\n",
        "ITERS_PER_ACTOR = 1\n",
        "EVE_MULTIPLIER = 2  # Train Eve 2x for every step of Alice/Bob"
      ]
    },
    {
      "cell_type": "code",
      "execution_count": null,
      "metadata": {
        "id": "JyUAWJ2MZMaC"
      },
      "outputs": [],
      "source": [
        "#Variables for graphs\n",
        "values_of_i=[]\n",
        "alice_bob_acc=[]\n",
        "eve_acc=[]"
      ]
    },
    {
      "cell_type": "code",
      "execution_count": null,
      "metadata": {
        "id": "Ub3hPr0oZP_M"
      },
      "outputs": [],
      "source": [
        "def random_bools(size, n):\n",
        "\n",
        "  # create a batch size of 'size' with 'n' number of bits per sample\n",
        "  temp =  np.random.random_integers(0, high=1, size=[size, n])\n",
        "\n",
        "  # Convert 0 -> -1 and 1 -> 1 \n",
        "  temp = temp*2 - 1\n",
        "\n",
        "  return temp.astype(np.float32)\n",
        "\n",
        "def get_dataset(sample_size, text_size, key_size):\n",
        "\n",
        "  m = random_bools(sample_size, text_size)\n",
        "  k = random_bools(sample_size, key_size)\n",
        "\n",
        "  return m, k"
      ]
    },
    {
      "cell_type": "code",
      "execution_count": null,
      "metadata": {
        "id": "DxJf_zMpal5P"
      },
      "outputs": [],
      "source": [
        "# Function to return a list of tensor's to be used in training based on the scope of model\n",
        "def get_collection(collection):\n",
        "  return tf.get_collection(tf.GraphKeys.GLOBAL_VARIABLES, scope=collection) \n",
        "\n",
        "# Create two placeholders to hold message and key\n",
        "input_message = tf.placeholder(tf.float32, shape=(batch_size, text_size), name='input_message')\n",
        "input_key     = tf.placeholder(tf.float32, shape=(batch_size, key_size), name='input_key')\n",
        "\n",
        "\n",
        "# Function to create individual models for Alice, Bob and Eve.\n",
        "def model(collection, message, key=None):\n",
        "\n",
        "  if key is not None:\n",
        "    # if there is a key then it's either Alice or Bob model trying to encrypt and decrypt resp\n",
        "    # message and key is concatenated into single tensor and fed as an input\n",
        "    combined_input = tf.concat(axis=1, values=[message, key])\n",
        "  else:\n",
        "    # if no key is present then it's Eve model trying to eavesdrop hence pass the message as input tensor \n",
        "    combined_input = message\n",
        "\n",
        "  # collection arg is to denote the scope of model which is used to aggregate the \n",
        "  # tensor to make sure all tensor which needs to be trained are inside one scope\n",
        "  with tf.variable_scope(collection):\n",
        "\n",
        "\n",
        "    ## Fully connected layer of 16+16 = 32 neurons\n",
        "    fc = tf.layers.dense(combined_input, text_size + key_size, activation=tf.nn.relu)\n",
        "    # expand and create channel to be valid for convolution\n",
        "    # i.e convert FC layer a vector of 32 to matrix of (32,1) \n",
        "    fc = tf.expand_dims(fc, 2)\n",
        "\n",
        "\n",
        "    ## Convolution Layers - Sigmoid activation function\n",
        "\n",
        "    # input: (32,1) -> output:(32,2) because filter is 2 which creates 2 channels\n",
        "    conv1 = tf.layers.conv1d( fc,    filters=2, kernel_size=4, strides= 1, padding='SAME',  activation=tf.nn.sigmoid)\n",
        "\n",
        "    # input: (32,2) -> output:(16,4) because stride is 2 hence result is halved ( i.e 32/2 )\n",
        "    # filter is 4 which creates 4 channels\n",
        "    conv2 = tf.layers.conv1d( conv1, filters=4, kernel_size=2, strides= 2, padding='VALID', activation=tf.nn.sigmoid)\n",
        "\n",
        "    # input: (16,4) -> output:(16,4) because filter is 4 which creates 4 channels\n",
        "    conv3 = tf.layers.conv1d( conv2, filters=4, kernel_size=1, strides= 1, padding='SAME',  activation=tf.nn.sigmoid)\n",
        "\n",
        "\n",
        "    ## Convolution Layers - Tanh activation function\n",
        "\n",
        "    # input: (16,4) -> output:(16,1) because filter is 1 which creates 1 channel\n",
        "    conv4 = tf.layers.conv1d( conv3, filters=1, kernel_size=1, strides=1, padding='SAME', activation=tf.nn.tanh)\n",
        "\n",
        "    # Opposite of expand_dims function, here (16,1) tensor is converted to tensor of (16)\n",
        "    conv4 = tf.squeeze(conv4, 2)\n",
        "\n",
        "\n",
        "    return conv4\n"
      ]
    },
    {
      "cell_type": "code",
      "execution_count": null,
      "metadata": {
        "id": "YTA5SETlriO1"
      },
      "outputs": [],
      "source": [
        "def eve_loss(input_message, eve_out_message, batch_size):\n",
        "\n",
        "  # Mapping -1 to 0 and 1 to 1\n",
        "  eve_diff = (eve_out_message + 1.0)/2.0 - (input_message + 1.0)/2.0\n",
        "\n",
        "  # Eve's average L1 distance Loss of the given batch\n",
        "  loss = (1/batch_size)*tf.reduce_sum(tf.abs(eve_diff))\n",
        "\n",
        "  return loss\n",
        "\n",
        "def alice_bob_loss(input_message, bob_out_message, Eve_loss, batch_size):\n",
        "\n",
        "  ## Alice-Bob Loss part-1\n",
        "\n",
        "  # Mapping -1 to 0 and 1 to 1\n",
        "  ab_diff = (bob_out_message + 1.0)/2.0 - (input_message + 1.0)/2.0\n",
        "\n",
        "  # Alice and Bob's average L1 distance Loss of the given batch\n",
        "  bob_reconstruction_loss = (1/batch_size)*tf.reduce_sum(tf.abs(ab_diff))\n",
        "\n",
        "  ## Alice-Bob Loss part-2\n",
        "  # To make sure Eve at least has 50% of bits wrong so that output simulates random probability of binary output\n",
        "  # ((N/2 - EveLoss)^2)/((N/2)^2)\n",
        "  eve_evedropping_loss = tf.reduce_sum( tf.square(float(text_size) / 2.0 - Eve_loss) / (text_size / 2)**2)\n",
        "\n",
        "  # bobs final reconstruction loss\n",
        "  loss = bob_reconstruction_loss + eve_evedropping_loss\n",
        "\n",
        "  return loss"
      ]
    },
    {
      "cell_type": "code",
      "execution_count": null,
      "metadata": {
        "id": "1d5GFxMErmCk"
      },
      "outputs": [],
      "source": [
        "def symm_crypto_create(input_message, input_key):\n",
        "\n",
        "  # Alice takes in message and shared secret key to encrypt and create a ciphertext\n",
        "  Alice_out_ciphertext = model( 'Alice', input_message, input_key)\n",
        "\n",
        "  # Bob takes in ciphertext and shared secret key to decrypt and recreate the original message\n",
        "  Bob_out_message      = model( 'Bob',   Alice_out_ciphertext, input_key)\n",
        "\n",
        "  # Eve only takes in ciphertext and tries to decrypt it without using key\n",
        "  Eve_out_message      = model( 'Eve',   Alice_out_ciphertext)\n",
        "\n",
        "  return Bob_out_message, Eve_out_message"
      ]
    },
    {
      "cell_type": "code",
      "execution_count": null,
      "metadata": {
        "colab": {
          "background_save": true,
          "base_uri": "https://localhost:8080/"
        },
        "id": "nSLSQCQEroFj",
        "outputId": "805ac0e0-e7d5-4809-f9de-3d9af238e161"
      },
      "outputs": [
        {
          "name": "stderr",
          "output_type": "stream",
          "text": [
            "/usr/local/lib/python3.7/dist-packages/ipykernel_launcher.py:27: UserWarning: `tf.layers.dense` is deprecated and will be removed in a future version. Please use `tf.keras.layers.Dense` instead.\n",
            "/usr/local/lib/python3.7/dist-packages/ipykernel_launcher.py:36: UserWarning: `tf.layers.conv1d` is deprecated and will be removed in a future version. Please Use `tf.keras.layers.Conv1D` instead.\n",
            "/usr/local/lib/python3.7/dist-packages/ipykernel_launcher.py:40: UserWarning: `tf.layers.conv1d` is deprecated and will be removed in a future version. Please Use `tf.keras.layers.Conv1D` instead.\n",
            "/usr/local/lib/python3.7/dist-packages/ipykernel_launcher.py:43: UserWarning: `tf.layers.conv1d` is deprecated and will be removed in a future version. Please Use `tf.keras.layers.Conv1D` instead.\n",
            "/usr/local/lib/python3.7/dist-packages/ipykernel_launcher.py:49: UserWarning: `tf.layers.conv1d` is deprecated and will be removed in a future version. Please Use `tf.keras.layers.Conv1D` instead.\n",
            "/usr/local/lib/python3.7/dist-packages/ipykernel_launcher.py:4: DeprecationWarning: This function is deprecated. Please call randint(0, 1 + 1) instead\n",
            "  after removing the cwd from sys.path.\n"
          ]
        },
        {
          "name": "stdout",
          "output_type": "stream",
          "text": [
            "0   Alice_bob_loss:  8.0029745     Eve_loss: 7.9968944\n",
            "100   Alice_bob_loss:  4.077012     Eve_loss: 2.2184966\n",
            "200   Alice_bob_loss:  0.919036     Eve_loss: 3.47703\n",
            "300   Alice_bob_loss:  0.3419129     Eve_loss: 5.176656\n",
            "400   Alice_bob_loss:  0.18333499     Eve_loss: 5.788188\n",
            "500   Alice_bob_loss:  0.10531106     Eve_loss: 6.3222322\n",
            "600   Alice_bob_loss:  0.07281112     Eve_loss: 6.56635\n",
            "700   Alice_bob_loss:  0.051966168     Eve_loss: 6.779562\n",
            "800   Alice_bob_loss:  0.03795459     Eve_loss: 6.9515724\n",
            "900   Alice_bob_loss:  0.029099468     Eve_loss: 7.0584574\n",
            "1000   Alice_bob_loss:  0.022394136     Eve_loss: 7.16367\n",
            "1100   Alice_bob_loss:  0.017287763     Eve_loss: 7.2562637\n",
            "1200   Alice_bob_loss:  0.013529934     Eve_loss: 7.333131\n",
            "1300   Alice_bob_loss:  0.010950937     Eve_loss: 7.395071\n",
            "1400   Alice_bob_loss:  0.009213593     Eve_loss: 7.4278398\n",
            "1500   Alice_bob_loss:  0.007342667     Eve_loss: 7.483055\n",
            "1600   Alice_bob_loss:  0.005594191     Eve_loss: 7.5500793\n",
            "1700   Alice_bob_loss:  0.0045964024     Eve_loss: 7.582159\n",
            "1800   Alice_bob_loss:  0.0045735994     Eve_loss: 7.5436254\n",
            "1900   Alice_bob_loss:  0.0034984176     Eve_loss: 7.616443\n",
            "2000   Alice_bob_loss:  0.003628781     Eve_loss: 7.570721\n",
            "2100   Alice_bob_loss:  0.0029023995     Eve_loss: 7.6321635\n",
            "2200   Alice_bob_loss:  0.0024494613     Eve_loss: 7.6602106\n",
            "2300   Alice_bob_loss:  0.005713676     Eve_loss: 7.414747\n",
            "2400   Alice_bob_loss:  0.0043066298     Eve_loss: 7.4992795\n",
            "2500   Alice_bob_loss:  0.0033090808     Eve_loss: 7.5695047\n",
            "2600   Alice_bob_loss:  0.002839032     Eve_loss: 7.6033072\n",
            "2700   Alice_bob_loss:  0.002367125     Eve_loss: 7.640859\n",
            "2800   Alice_bob_loss:  0.0019656273     Eve_loss: 7.671505\n",
            "2900   Alice_bob_loss:  0.0018297671     Eve_loss: 7.681767\n",
            "3000   Alice_bob_loss:  0.0017288886     Eve_loss: 7.6869736\n",
            "3100   Alice_bob_loss:  0.0020980546     Eve_loss: 7.645856\n",
            "3200   Alice_bob_loss:  0.0018432769     Eve_loss: 7.672331\n",
            "3300   Alice_bob_loss:  0.008834893     Eve_loss: 7.249526\n",
            "3400   Alice_bob_loss:  0.00494141     Eve_loss: 7.4422455\n",
            "3500   Alice_bob_loss:  0.003883584     Eve_loss: 7.5073733\n",
            "3600   Alice_bob_loss:  0.0032402058     Eve_loss: 7.550317\n",
            "3700   Alice_bob_loss:  0.0027013468     Eve_loss: 7.5917\n",
            "3800   Alice_bob_loss:  0.0023359673     Eve_loss: 7.6220717\n",
            "3900   Alice_bob_loss:  0.0021267105     Eve_loss: 7.64124\n",
            "4000   Alice_bob_loss:  0.0018987043     Eve_loss: 7.6615906\n",
            "4100   Alice_bob_loss:  0.001803914     Eve_loss: 7.6693287\n",
            "4200   Alice_bob_loss:  0.0018994659     Eve_loss: 7.661194\n",
            "4300   Alice_bob_loss:  0.008738725     Eve_loss: 7.253893\n",
            "4400   Alice_bob_loss:  0.005416048     Eve_loss: 7.413926\n",
            "4500   Alice_bob_loss:  0.0043045655     Eve_loss: 7.479204\n",
            "4600   Alice_bob_loss:  0.0035295025     Eve_loss: 7.5291233\n",
            "4700   Alice_bob_loss:  0.0030804232     Eve_loss: 7.5621004\n",
            "4800   Alice_bob_loss:  0.0026981346     Eve_loss: 7.5912075\n",
            "4900   Alice_bob_loss:  0.0024065075     Eve_loss: 7.6143665\n",
            "5000   Alice_bob_loss:  0.0021351574     Eve_loss: 7.637574\n",
            "5100   Alice_bob_loss:  0.0020170421     Eve_loss: 7.6507993\n",
            "5200   Alice_bob_loss:  0.007145302     Eve_loss: 7.3257246\n",
            "5300   Alice_bob_loss:  0.0049352343     Eve_loss: 7.4416237\n",
            "5400   Alice_bob_loss:  0.0037710944     Eve_loss: 7.5124664\n",
            "5500   Alice_bob_loss:  0.0030503606     Eve_loss: 7.5628805\n",
            "5600   Alice_bob_loss:  0.0025653364     Eve_loss: 7.6010113\n",
            "5700   Alice_bob_loss:  0.0022588244     Eve_loss: 7.6258235\n",
            "5800   Alice_bob_loss:  0.002173369     Eve_loss: 7.634838\n",
            "5900   Alice_bob_loss:  0.0020865556     Eve_loss: 7.6419344\n",
            "6000   Alice_bob_loss:  0.008069136     Eve_loss: 7.2830305\n",
            "6100   Alice_bob_loss:  0.00538036     Eve_loss: 7.416237\n",
            "6200   Alice_bob_loss:  0.004103979     Eve_loss: 7.490614\n",
            "6300   Alice_bob_loss:  0.0034882794     Eve_loss: 7.531666\n",
            "6400   Alice_bob_loss:  0.0028866308     Eve_loss: 7.57418\n",
            "6500   Alice_bob_loss:  0.0024445145     Eve_loss: 7.6108694\n",
            "6600   Alice_bob_loss:  0.0021440072     Eve_loss: 7.6354084\n",
            "6700   Alice_bob_loss:  0.0037719354     Eve_loss: 7.5116706\n",
            "6800   Alice_bob_loss:  0.0025282842     Eve_loss: 7.602459\n",
            "6900   Alice_bob_loss:  0.008275124     Eve_loss: 7.2743063\n",
            "7000   Alice_bob_loss:  0.005418294     Eve_loss: 7.4133463\n"
          ]
        }
      ],
      "source": [
        "sess = tf.Session()\n",
        "\n",
        "# Create symmetric cryptosystem in form of adversarial networks\n",
        "Bob_out, Eve_out = symm_crypto_create(input_message, input_key)\n",
        "\n",
        "# Loss\n",
        "eve_loss       = eve_loss(input_message, Eve_out, batch_size)\n",
        "alice_bob_loss = alice_bob_loss(input_message, Bob_out, eve_loss, batch_size)\n",
        "\n",
        "# Collect each model's tensors\n",
        "alice_vars = get_collection('Alice')\n",
        "bob_vars   = get_collection('Bob')\n",
        "eve_vars   = get_collection('Eve')\n",
        "\n",
        "# optimizers\n",
        "Eve_opt  = tf.train.AdamOptimizer(learning_rate=learning_rate, beta1=0.9, epsilon=1e-08).minimize(eve_loss, var_list=[eve_vars])\n",
        "bob_opt  = tf.train.AdamOptimizer(learning_rate=learning_rate, beta1=0.9, epsilon=1e-08).minimize(alice_bob_loss, var_list=[alice_vars + bob_vars]) \n",
        "\n",
        "# initialize variables\n",
        "init = tf.global_variables_initializer()\n",
        "sess.run(init)\n",
        "\n",
        "\n",
        "# DATASET \n",
        "messages, keys = get_dataset(sample_size, text_size, key_size)\n",
        "\n",
        "for i in range(epochs):\n",
        "\n",
        "  for j in range(steps_per_epoch):\n",
        "    \n",
        "    # select the batch from the samples\n",
        "    batch_messages = messages[j*batch_size: (j+1)*batch_size]\n",
        "    batch_keys     = keys[j*batch_size: (j+1)*batch_size]\n",
        "\n",
        "    # Train Alice and Bob's models\n",
        "    for _ in range(ITERS_PER_ACTOR):\n",
        "      temp = sess.run([bob_opt, alice_bob_loss],feed_dict={input_message:batch_messages , input_key:batch_keys })\n",
        "      Alice_bob_loss = temp[1]\n",
        "\n",
        "    # Train Eve's model\n",
        "    for _ in range(ITERS_PER_ACTOR*EVE_MULTIPLIER):\n",
        "      temp = sess.run([Eve_opt, eve_loss], feed_dict={input_message:batch_messages , input_key:batch_keys })\n",
        "      Eve_loss = temp[1]\n",
        "\n",
        "  # output Alice-Bob loss and Eve's loss after every 100 iterations  \n",
        "  if i%100 == 0:\n",
        "    print(i,'  Alice_bob_loss: ', Alice_bob_loss,'    Eve_loss:', Eve_loss)\n",
        "    values_of_i.append(i)\n",
        "    alice_bob_acc.append((8-Alice_bob_loss)*1.25)\n",
        "    eve_acc.append((8-Eve_loss)*1.25)\n",
        "sess.close()\n"
      ]
    },
    {
      "cell_type": "code",
      "execution_count": null,
      "metadata": {
        "colab": {
          "base_uri": "https://localhost:8080/",
          "height": 291
        },
        "id": "Mua9inaprsfd",
        "outputId": "98354e20-456d-4cce-8fc7-e86063d84ce7"
      },
      "outputs": [
        {
          "data": {
            "image/png": "[encoded data removed]",
            "text/plain": [
              "<Figure size 432x288 with 1 Axes>"
            ]
          },
          "metadata": {},
          "output_type": "display_data"
        }
      ],
      "source": [
        "plt.style.use('seaborn-whitegrid')\n",
        "\n",
        "plt.plot(values_of_i,alice_bob_acc, color='blue',label='ALICE/BOB')\n",
        "plt.plot(values_of_i, eve_acc, color='orange',label='EVE')\n",
        "plt.xlabel('Steps')\n",
        "plt.ylabel('Accuracy')\n",
        "plt.legend()\n",
        "plt.title('Model Accuracy')\n",
        "plt.show()"
      ]
    }
  ],
  "metadata": {
    "colab": {
      "provenance": []
    },
    "kernelspec": {
      "display_name": "Python 3",
      "name": "python3"
    },
    "language_info": {
      "name": "python"
    }
  },
  "nbformat": 4,
  "nbformat_minor": 0
}